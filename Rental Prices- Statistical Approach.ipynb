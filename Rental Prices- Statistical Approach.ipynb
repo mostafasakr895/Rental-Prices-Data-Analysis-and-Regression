{
 "cells": [
  {
   "cell_type": "markdown",
   "metadata": {
    "id": "bA5ajAmk7XH6",
    "slideshow": {
     "slide_type": "slide"
    },
    "tags": []
   },
   "source": [
    "# Rental Prices- Statistical Approach"
   ]
  },
  {
   "cell_type": "code",
   "execution_count": 3,
   "metadata": {},
   "outputs": [
    {
     "data": {
      "text/html": [
       "<div>\n",
       "<style scoped>\n",
       "    .dataframe tbody tr th:only-of-type {\n",
       "        vertical-align: middle;\n",
       "    }\n",
       "\n",
       "    .dataframe tbody tr th {\n",
       "        vertical-align: top;\n",
       "    }\n",
       "\n",
       "    .dataframe thead th {\n",
       "        text-align: right;\n",
       "    }\n",
       "</style>\n",
       "<table border=\"1\" class=\"dataframe\">\n",
       "  <thead>\n",
       "    <tr style=\"text-align: right;\">\n",
       "      <th></th>\n",
       "      <th>Unnamed: 0</th>\n",
       "      <th>id</th>\n",
       "      <th>latitude</th>\n",
       "      <th>longitude</th>\n",
       "      <th>property_type</th>\n",
       "      <th>room_type</th>\n",
       "      <th>bathrooms</th>\n",
       "      <th>bedrooms</th>\n",
       "      <th>minimum_nights</th>\n",
       "      <th>price</th>\n",
       "    </tr>\n",
       "  </thead>\n",
       "  <tbody>\n",
       "    <tr>\n",
       "      <th>0</th>\n",
       "      <td>0</td>\n",
       "      <td>958</td>\n",
       "      <td>37.76931</td>\n",
       "      <td>-122.43386</td>\n",
       "      <td>Apartment</td>\n",
       "      <td>Entire home/apt</td>\n",
       "      <td>1</td>\n",
       "      <td>1.0</td>\n",
       "      <td>1</td>\n",
       "      <td>17000.0</td>\n",
       "    </tr>\n",
       "    <tr>\n",
       "      <th>1</th>\n",
       "      <td>1</td>\n",
       "      <td>3850</td>\n",
       "      <td>37.75402</td>\n",
       "      <td>-122.45805</td>\n",
       "      <td>House</td>\n",
       "      <td>Private room</td>\n",
       "      <td>1</td>\n",
       "      <td>1.0</td>\n",
       "      <td>1</td>\n",
       "      <td>9900.0</td>\n",
       "    </tr>\n",
       "    <tr>\n",
       "      <th>2</th>\n",
       "      <td>2</td>\n",
       "      <td>5858</td>\n",
       "      <td>37.74511</td>\n",
       "      <td>-122.42102</td>\n",
       "      <td>Apartment</td>\n",
       "      <td>Entire home/apt</td>\n",
       "      <td>1</td>\n",
       "      <td>2.0</td>\n",
       "      <td>30</td>\n",
       "      <td>23500.0</td>\n",
       "    </tr>\n",
       "    <tr>\n",
       "      <th>3</th>\n",
       "      <td>3</td>\n",
       "      <td>7918</td>\n",
       "      <td>37.76669</td>\n",
       "      <td>-122.45250</td>\n",
       "      <td>Apartment</td>\n",
       "      <td>Private room</td>\n",
       "      <td>4</td>\n",
       "      <td>1.0</td>\n",
       "      <td>32</td>\n",
       "      <td>6500.0</td>\n",
       "    </tr>\n",
       "    <tr>\n",
       "      <th>4</th>\n",
       "      <td>4</td>\n",
       "      <td>8142</td>\n",
       "      <td>37.76487</td>\n",
       "      <td>-122.45183</td>\n",
       "      <td>Apartment</td>\n",
       "      <td>Private room</td>\n",
       "      <td>4</td>\n",
       "      <td>1.0</td>\n",
       "      <td>32</td>\n",
       "      <td>6500.0</td>\n",
       "    </tr>\n",
       "  </tbody>\n",
       "</table>\n",
       "</div>"
      ],
      "text/plain": [
       "   Unnamed: 0    id  latitude  longitude property_type        room_type  \\\n",
       "0           0   958  37.76931 -122.43386     Apartment  Entire home/apt   \n",
       "1           1  3850  37.75402 -122.45805         House     Private room   \n",
       "2           2  5858  37.74511 -122.42102     Apartment  Entire home/apt   \n",
       "3           3  7918  37.76669 -122.45250     Apartment     Private room   \n",
       "4           4  8142  37.76487 -122.45183     Apartment     Private room   \n",
       "\n",
       "   bathrooms  bedrooms  minimum_nights    price  \n",
       "0          1       1.0               1  17000.0  \n",
       "1          1       1.0               1   9900.0  \n",
       "2          1       2.0              30  23500.0  \n",
       "3          4       1.0              32   6500.0  \n",
       "4          4       1.0              32   6500.0  "
      ]
     },
     "execution_count": 3,
     "metadata": {},
     "output_type": "execute_result"
    }
   ],
   "source": [
    "# Importing packages\n",
    "import numpy as np\n",
    "import pandas as pd\n",
    "import matplotlib.pyplot as plt\n",
    "import seaborn as sns\n",
    "%matplotlib inline\n",
    "\n",
    "# Loading data and printing out a few lines. \n",
    "df = pd.read_csv('rentals_cleaned_csv')\n",
    "df.head()"
   ]
  },
  {
   "cell_type": "code",
   "execution_count": 4,
   "metadata": {
    "slideshow": {
     "slide_type": "skip"
    }
   },
   "outputs": [
    {
     "data": {
      "text/html": [
       "<table class=\"simpletable\">\n",
       "<caption>OLS Regression Results</caption>\n",
       "<tr>\n",
       "  <th>Dep. Variable:</th>          <td>price</td>      <th>  R-squared:         </th> <td>   0.142</td> \n",
       "</tr>\n",
       "<tr>\n",
       "  <th>Model:</th>                   <td>OLS</td>       <th>  Adj. R-squared:    </th> <td>   0.141</td> \n",
       "</tr>\n",
       "<tr>\n",
       "  <th>Method:</th>             <td>Least Squares</td>  <th>  F-statistic:       </th> <td>   1334.</td> \n",
       "</tr>\n",
       "<tr>\n",
       "  <th>Date:</th>             <td>Fri, 08 Oct 2021</td> <th>  Prob (F-statistic):</th> <td>1.68e-270</td>\n",
       "</tr>\n",
       "<tr>\n",
       "  <th>Time:</th>                 <td>16:11:19</td>     <th>  Log-Likelihood:    </th> <td> -94209.</td> \n",
       "</tr>\n",
       "<tr>\n",
       "  <th>No. Observations:</th>      <td>  8095</td>      <th>  AIC:               </th> <td>1.884e+05</td>\n",
       "</tr>\n",
       "<tr>\n",
       "  <th>Df Residuals:</th>          <td>  8093</td>      <th>  BIC:               </th> <td>1.884e+05</td>\n",
       "</tr>\n",
       "<tr>\n",
       "  <th>Df Model:</th>              <td>     1</td>      <th>                     </th>     <td> </td>    \n",
       "</tr>\n",
       "<tr>\n",
       "  <th>Covariance Type:</th>      <td>nonrobust</td>    <th>                     </th>     <td> </td>    \n",
       "</tr>\n",
       "</table>\n",
       "<table class=\"simpletable\">\n",
       "<tr>\n",
       "      <td></td>         <th>coef</th>     <th>std err</th>      <th>t</th>      <th>P>|t|</th>  <th>[0.025</th>    <th>0.975]</th>  \n",
       "</tr>\n",
       "<tr>\n",
       "  <th>bedrooms</th>  <td> 1.202e+04</td> <td>  329.185</td> <td>   36.525</td> <td> 0.000</td> <td> 1.14e+04</td> <td> 1.27e+04</td>\n",
       "</tr>\n",
       "<tr>\n",
       "  <th>intercept</th> <td> 5551.6158</td> <td>  537.885</td> <td>   10.321</td> <td> 0.000</td> <td> 4497.224</td> <td> 6606.008</td>\n",
       "</tr>\n",
       "</table>\n",
       "<table class=\"simpletable\">\n",
       "<tr>\n",
       "  <th>Omnibus:</th>       <td>15552.285</td> <th>  Durbin-Watson:     </th>   <td>   1.898</td>  \n",
       "</tr>\n",
       "<tr>\n",
       "  <th>Prob(Omnibus):</th>  <td> 0.000</td>   <th>  Jarque-Bera (JB):  </th> <td>47600476.124</td>\n",
       "</tr>\n",
       "<tr>\n",
       "  <th>Skew:</th>           <td>14.785</td>   <th>  Prob(JB):          </th>   <td>    0.00</td>  \n",
       "</tr>\n",
       "<tr>\n",
       "  <th>Kurtosis:</th>       <td>377.501</td>  <th>  Cond. No.          </th>   <td>    3.69</td>  \n",
       "</tr>\n",
       "</table><br/><br/>Notes:<br/>[1] Standard Errors assume that the covariance matrix of the errors is correctly specified."
      ],
      "text/plain": [
       "<class 'statsmodels.iolib.summary.Summary'>\n",
       "\"\"\"\n",
       "                            OLS Regression Results                            \n",
       "==============================================================================\n",
       "Dep. Variable:                  price   R-squared:                       0.142\n",
       "Model:                            OLS   Adj. R-squared:                  0.141\n",
       "Method:                 Least Squares   F-statistic:                     1334.\n",
       "Date:                Fri, 08 Oct 2021   Prob (F-statistic):          1.68e-270\n",
       "Time:                        16:11:19   Log-Likelihood:                -94209.\n",
       "No. Observations:                8095   AIC:                         1.884e+05\n",
       "Df Residuals:                    8093   BIC:                         1.884e+05\n",
       "Df Model:                           1                                         \n",
       "Covariance Type:            nonrobust                                         \n",
       "==============================================================================\n",
       "                 coef    std err          t      P>|t|      [0.025      0.975]\n",
       "------------------------------------------------------------------------------\n",
       "bedrooms    1.202e+04    329.185     36.525      0.000    1.14e+04    1.27e+04\n",
       "intercept   5551.6158    537.885     10.321      0.000    4497.224    6606.008\n",
       "==============================================================================\n",
       "Omnibus:                    15552.285   Durbin-Watson:                   1.898\n",
       "Prob(Omnibus):                  0.000   Jarque-Bera (JB):         47600476.124\n",
       "Skew:                          14.785   Prob(JB):                         0.00\n",
       "Kurtosis:                     377.501   Cond. No.                         3.69\n",
       "==============================================================================\n",
       "\n",
       "Notes:\n",
       "[1] Standard Errors assume that the covariance matrix of the errors is correctly specified.\n",
       "\"\"\""
      ]
     },
     "execution_count": 4,
     "metadata": {},
     "output_type": "execute_result"
    }
   ],
   "source": [
    "# Linear simple regression between bedrooms and price\n",
    "df['intercept'] = 1 \n",
    "from statsmodels.api import OLS \n",
    "lm = OLS(df['price'], df[['bedrooms','intercept']])\n",
    "lm.fit().summary()"
   ]
  },
  {
   "cell_type": "code",
   "execution_count": 5,
   "metadata": {
    "slideshow": {
     "slide_type": "skip"
    }
   },
   "outputs": [
    {
     "data": {
      "text/html": [
       "<table class=\"simpletable\">\n",
       "<caption>OLS Regression Results</caption>\n",
       "<tr>\n",
       "  <th>Dep. Variable:</th>          <td>price</td>      <th>  R-squared:         </th> <td>   0.015</td> \n",
       "</tr>\n",
       "<tr>\n",
       "  <th>Model:</th>                   <td>OLS</td>       <th>  Adj. R-squared:    </th> <td>   0.015</td> \n",
       "</tr>\n",
       "<tr>\n",
       "  <th>Method:</th>             <td>Least Squares</td>  <th>  F-statistic:       </th> <td>   122.3</td> \n",
       "</tr>\n",
       "<tr>\n",
       "  <th>Date:</th>             <td>Fri, 08 Oct 2021</td> <th>  Prob (F-statistic):</th> <td>3.08e-28</td> \n",
       "</tr>\n",
       "<tr>\n",
       "  <th>Time:</th>                 <td>16:11:19</td>     <th>  Log-Likelihood:    </th> <td> -94765.</td> \n",
       "</tr>\n",
       "<tr>\n",
       "  <th>No. Observations:</th>      <td>  8095</td>      <th>  AIC:               </th> <td>1.895e+05</td>\n",
       "</tr>\n",
       "<tr>\n",
       "  <th>Df Residuals:</th>          <td>  8093</td>      <th>  BIC:               </th> <td>1.895e+05</td>\n",
       "</tr>\n",
       "<tr>\n",
       "  <th>Df Model:</th>              <td>     1</td>      <th>                     </th>     <td> </td>    \n",
       "</tr>\n",
       "<tr>\n",
       "  <th>Covariance Type:</th>      <td>nonrobust</td>    <th>                     </th>     <td> </td>    \n",
       "</tr>\n",
       "</table>\n",
       "<table class=\"simpletable\">\n",
       "<tr>\n",
       "      <td></td>         <th>coef</th>     <th>std err</th>      <th>t</th>      <th>P>|t|</th>  <th>[0.025</th>    <th>0.975]</th>  \n",
       "</tr>\n",
       "<tr>\n",
       "  <th>bathrooms</th> <td> 3878.1668</td> <td>  350.613</td> <td>   11.061</td> <td> 0.000</td> <td> 3190.876</td> <td> 4565.458</td>\n",
       "</tr>\n",
       "<tr>\n",
       "  <th>intercept</th> <td> 1.624e+04</td> <td>  595.078</td> <td>   27.285</td> <td> 0.000</td> <td> 1.51e+04</td> <td> 1.74e+04</td>\n",
       "</tr>\n",
       "</table>\n",
       "<table class=\"simpletable\">\n",
       "<tr>\n",
       "  <th>Omnibus:</th>       <td>14538.840</td> <th>  Durbin-Watson:     </th>   <td>   1.890</td>  \n",
       "</tr>\n",
       "<tr>\n",
       "  <th>Prob(Omnibus):</th>  <td> 0.000</td>   <th>  Jarque-Bera (JB):  </th> <td>30433162.947</td>\n",
       "</tr>\n",
       "<tr>\n",
       "  <th>Skew:</th>           <td>12.820</td>   <th>  Prob(JB):          </th>   <td>    0.00</td>  \n",
       "</tr>\n",
       "<tr>\n",
       "  <th>Kurtosis:</th>       <td>302.284</td>  <th>  Cond. No.          </th>   <td>    3.91</td>  \n",
       "</tr>\n",
       "</table><br/><br/>Notes:<br/>[1] Standard Errors assume that the covariance matrix of the errors is correctly specified."
      ],
      "text/plain": [
       "<class 'statsmodels.iolib.summary.Summary'>\n",
       "\"\"\"\n",
       "                            OLS Regression Results                            \n",
       "==============================================================================\n",
       "Dep. Variable:                  price   R-squared:                       0.015\n",
       "Model:                            OLS   Adj. R-squared:                  0.015\n",
       "Method:                 Least Squares   F-statistic:                     122.3\n",
       "Date:                Fri, 08 Oct 2021   Prob (F-statistic):           3.08e-28\n",
       "Time:                        16:11:19   Log-Likelihood:                -94765.\n",
       "No. Observations:                8095   AIC:                         1.895e+05\n",
       "Df Residuals:                    8093   BIC:                         1.895e+05\n",
       "Df Model:                           1                                         \n",
       "Covariance Type:            nonrobust                                         \n",
       "==============================================================================\n",
       "                 coef    std err          t      P>|t|      [0.025      0.975]\n",
       "------------------------------------------------------------------------------\n",
       "bathrooms   3878.1668    350.613     11.061      0.000    3190.876    4565.458\n",
       "intercept   1.624e+04    595.078     27.285      0.000    1.51e+04    1.74e+04\n",
       "==============================================================================\n",
       "Omnibus:                    14538.840   Durbin-Watson:                   1.890\n",
       "Prob(Omnibus):                  0.000   Jarque-Bera (JB):         30433162.947\n",
       "Skew:                          12.820   Prob(JB):                         0.00\n",
       "Kurtosis:                     302.284   Cond. No.                         3.91\n",
       "==============================================================================\n",
       "\n",
       "Notes:\n",
       "[1] Standard Errors assume that the covariance matrix of the errors is correctly specified.\n",
       "\"\"\""
      ]
     },
     "execution_count": 5,
     "metadata": {},
     "output_type": "execute_result"
    }
   ],
   "source": [
    "# Linear simple regression between bathrooms and price\n",
    "lm = OLS(df['price'], df[['bathrooms','intercept']])\n",
    "lm.fit().summary()"
   ]
  },
  {
   "cell_type": "code",
   "execution_count": 6,
   "metadata": {
    "scrolled": true,
    "slideshow": {
     "slide_type": "skip"
    }
   },
   "outputs": [
    {
     "data": {
      "text/html": [
       "<table class=\"simpletable\">\n",
       "<caption>OLS Regression Results</caption>\n",
       "<tr>\n",
       "  <th>Dep. Variable:</th>          <td>price</td>      <th>  R-squared:         </th> <td>   0.001</td> \n",
       "</tr>\n",
       "<tr>\n",
       "  <th>Model:</th>                   <td>OLS</td>       <th>  Adj. R-squared:    </th> <td>   0.001</td> \n",
       "</tr>\n",
       "<tr>\n",
       "  <th>Method:</th>             <td>Least Squares</td>  <th>  F-statistic:       </th> <td>   9.194</td> \n",
       "</tr>\n",
       "<tr>\n",
       "  <th>Date:</th>             <td>Fri, 08 Oct 2021</td> <th>  Prob (F-statistic):</th>  <td>0.00244</td> \n",
       "</tr>\n",
       "<tr>\n",
       "  <th>Time:</th>                 <td>16:11:20</td>     <th>  Log-Likelihood:    </th> <td> -94822.</td> \n",
       "</tr>\n",
       "<tr>\n",
       "  <th>No. Observations:</th>      <td>  8095</td>      <th>  AIC:               </th> <td>1.896e+05</td>\n",
       "</tr>\n",
       "<tr>\n",
       "  <th>Df Residuals:</th>          <td>  8093</td>      <th>  BIC:               </th> <td>1.897e+05</td>\n",
       "</tr>\n",
       "<tr>\n",
       "  <th>Df Model:</th>              <td>     1</td>      <th>                     </th>     <td> </td>    \n",
       "</tr>\n",
       "<tr>\n",
       "  <th>Covariance Type:</th>      <td>nonrobust</td>    <th>                     </th>     <td> </td>    \n",
       "</tr>\n",
       "</table>\n",
       "<table class=\"simpletable\">\n",
       "<tr>\n",
       "         <td></td>           <th>coef</th>     <th>std err</th>      <th>t</th>      <th>P>|t|</th>  <th>[0.025</th>    <th>0.975]</th>  \n",
       "</tr>\n",
       "<tr>\n",
       "  <th>minimum_nights</th> <td>   42.9292</td> <td>   14.158</td> <td>    3.032</td> <td> 0.002</td> <td>   15.175</td> <td>   70.683</td>\n",
       "</tr>\n",
       "<tr>\n",
       "  <th>intercept</th>      <td> 2.104e+04</td> <td>  400.824</td> <td>   52.503</td> <td> 0.000</td> <td> 2.03e+04</td> <td> 2.18e+04</td>\n",
       "</tr>\n",
       "</table>\n",
       "<table class=\"simpletable\">\n",
       "<tr>\n",
       "  <th>Omnibus:</th>       <td>14333.857</td> <th>  Durbin-Watson:     </th>   <td>   1.901</td>  \n",
       "</tr>\n",
       "<tr>\n",
       "  <th>Prob(Omnibus):</th>  <td> 0.000</td>   <th>  Jarque-Bera (JB):  </th> <td>27035148.737</td>\n",
       "</tr>\n",
       "<tr>\n",
       "  <th>Skew:</th>           <td>12.462</td>   <th>  Prob(JB):          </th>   <td>    0.00</td>  \n",
       "</tr>\n",
       "<tr>\n",
       "  <th>Kurtosis:</th>       <td>285.015</td>  <th>  Cond. No.          </th>   <td>    34.5</td>  \n",
       "</tr>\n",
       "</table><br/><br/>Notes:<br/>[1] Standard Errors assume that the covariance matrix of the errors is correctly specified."
      ],
      "text/plain": [
       "<class 'statsmodels.iolib.summary.Summary'>\n",
       "\"\"\"\n",
       "                            OLS Regression Results                            \n",
       "==============================================================================\n",
       "Dep. Variable:                  price   R-squared:                       0.001\n",
       "Model:                            OLS   Adj. R-squared:                  0.001\n",
       "Method:                 Least Squares   F-statistic:                     9.194\n",
       "Date:                Fri, 08 Oct 2021   Prob (F-statistic):            0.00244\n",
       "Time:                        16:11:20   Log-Likelihood:                -94822.\n",
       "No. Observations:                8095   AIC:                         1.896e+05\n",
       "Df Residuals:                    8093   BIC:                         1.897e+05\n",
       "Df Model:                           1                                         \n",
       "Covariance Type:            nonrobust                                         \n",
       "==================================================================================\n",
       "                     coef    std err          t      P>|t|      [0.025      0.975]\n",
       "----------------------------------------------------------------------------------\n",
       "minimum_nights    42.9292     14.158      3.032      0.002      15.175      70.683\n",
       "intercept       2.104e+04    400.824     52.503      0.000    2.03e+04    2.18e+04\n",
       "==============================================================================\n",
       "Omnibus:                    14333.857   Durbin-Watson:                   1.901\n",
       "Prob(Omnibus):                  0.000   Jarque-Bera (JB):         27035148.737\n",
       "Skew:                          12.462   Prob(JB):                         0.00\n",
       "Kurtosis:                     285.015   Cond. No.                         34.5\n",
       "==============================================================================\n",
       "\n",
       "Notes:\n",
       "[1] Standard Errors assume that the covariance matrix of the errors is correctly specified.\n",
       "\"\"\""
      ]
     },
     "execution_count": 6,
     "metadata": {},
     "output_type": "execute_result"
    }
   ],
   "source": [
    "# Linear simple regression between minimum_nights and price\n",
    "lm = OLS(df['price'], df[['minimum_nights','intercept']])\n",
    "lm.fit().summary()"
   ]
  },
  {
   "cell_type": "markdown",
   "metadata": {
    "slideshow": {
     "slide_type": "slide"
    }
   },
   "source": [
    "From this simple linear regression model we see that bedrooms, bathrooms and minimum nights are statsticaly significant, why not cheking multiple regression"
   ]
  },
  {
   "cell_type": "code",
   "execution_count": 7,
   "metadata": {
    "scrolled": true,
    "slideshow": {
     "slide_type": "skip"
    }
   },
   "outputs": [
    {
     "data": {
      "text/html": [
       "<table class=\"simpletable\">\n",
       "<caption>OLS Regression Results</caption>\n",
       "<tr>\n",
       "  <th>Dep. Variable:</th>          <td>price</td>      <th>  R-squared:         </th> <td>   0.143</td> \n",
       "</tr>\n",
       "<tr>\n",
       "  <th>Model:</th>                   <td>OLS</td>       <th>  Adj. R-squared:    </th> <td>   0.143</td> \n",
       "</tr>\n",
       "<tr>\n",
       "  <th>Method:</th>             <td>Least Squares</td>  <th>  F-statistic:       </th> <td>   450.5</td> \n",
       "</tr>\n",
       "<tr>\n",
       "  <th>Date:</th>             <td>Fri, 08 Oct 2021</td> <th>  Prob (F-statistic):</th> <td>1.17e-270</td>\n",
       "</tr>\n",
       "<tr>\n",
       "  <th>Time:</th>                 <td>16:11:20</td>     <th>  Log-Likelihood:    </th> <td> -94201.</td> \n",
       "</tr>\n",
       "<tr>\n",
       "  <th>No. Observations:</th>      <td>  8095</td>      <th>  AIC:               </th> <td>1.884e+05</td>\n",
       "</tr>\n",
       "<tr>\n",
       "  <th>Df Residuals:</th>          <td>  8091</td>      <th>  BIC:               </th> <td>1.884e+05</td>\n",
       "</tr>\n",
       "<tr>\n",
       "  <th>Df Model:</th>              <td>     3</td>      <th>                     </th>     <td> </td>    \n",
       "</tr>\n",
       "<tr>\n",
       "  <th>Covariance Type:</th>      <td>nonrobust</td>    <th>                     </th>     <td> </td>    \n",
       "</tr>\n",
       "</table>\n",
       "<table class=\"simpletable\">\n",
       "<tr>\n",
       "         <td></td>           <th>coef</th>     <th>std err</th>      <th>t</th>      <th>P>|t|</th>  <th>[0.025</th>    <th>0.975]</th>  \n",
       "</tr>\n",
       "<tr>\n",
       "  <th>bathrooms</th>      <td>  -49.1803</td> <td>  345.982</td> <td>   -0.142</td> <td> 0.887</td> <td> -727.394</td> <td>  629.034</td>\n",
       "</tr>\n",
       "<tr>\n",
       "  <th>bedrooms</th>       <td> 1.206e+04</td> <td>  347.943</td> <td>   34.664</td> <td> 0.000</td> <td> 1.14e+04</td> <td> 1.27e+04</td>\n",
       "</tr>\n",
       "<tr>\n",
       "  <th>minimum_nights</th> <td>   51.0530</td> <td>   13.122</td> <td>    3.891</td> <td> 0.000</td> <td>   25.331</td> <td>   76.776</td>\n",
       "</tr>\n",
       "<tr>\n",
       "  <th>intercept</th>      <td> 4743.8719</td> <td>  669.126</td> <td>    7.090</td> <td> 0.000</td> <td> 3432.212</td> <td> 6055.532</td>\n",
       "</tr>\n",
       "</table>\n",
       "<table class=\"simpletable\">\n",
       "<tr>\n",
       "  <th>Omnibus:</th>       <td>15392.362</td> <th>  Durbin-Watson:     </th>   <td>   1.894</td>  \n",
       "</tr>\n",
       "<tr>\n",
       "  <th>Prob(Omnibus):</th>  <td> 0.000</td>   <th>  Jarque-Bera (JB):  </th> <td>44197259.302</td>\n",
       "</tr>\n",
       "<tr>\n",
       "  <th>Skew:</th>           <td>14.463</td>   <th>  Prob(JB):          </th>   <td>    0.00</td>  \n",
       "</tr>\n",
       "<tr>\n",
       "  <th>Kurtosis:</th>       <td>363.831</td>  <th>  Cond. No.          </th>   <td>    66.3</td>  \n",
       "</tr>\n",
       "</table><br/><br/>Notes:<br/>[1] Standard Errors assume that the covariance matrix of the errors is correctly specified."
      ],
      "text/plain": [
       "<class 'statsmodels.iolib.summary.Summary'>\n",
       "\"\"\"\n",
       "                            OLS Regression Results                            \n",
       "==============================================================================\n",
       "Dep. Variable:                  price   R-squared:                       0.143\n",
       "Model:                            OLS   Adj. R-squared:                  0.143\n",
       "Method:                 Least Squares   F-statistic:                     450.5\n",
       "Date:                Fri, 08 Oct 2021   Prob (F-statistic):          1.17e-270\n",
       "Time:                        16:11:20   Log-Likelihood:                -94201.\n",
       "No. Observations:                8095   AIC:                         1.884e+05\n",
       "Df Residuals:                    8091   BIC:                         1.884e+05\n",
       "Df Model:                           3                                         \n",
       "Covariance Type:            nonrobust                                         \n",
       "==================================================================================\n",
       "                     coef    std err          t      P>|t|      [0.025      0.975]\n",
       "----------------------------------------------------------------------------------\n",
       "bathrooms        -49.1803    345.982     -0.142      0.887    -727.394     629.034\n",
       "bedrooms        1.206e+04    347.943     34.664      0.000    1.14e+04    1.27e+04\n",
       "minimum_nights    51.0530     13.122      3.891      0.000      25.331      76.776\n",
       "intercept       4743.8719    669.126      7.090      0.000    3432.212    6055.532\n",
       "==============================================================================\n",
       "Omnibus:                    15392.362   Durbin-Watson:                   1.894\n",
       "Prob(Omnibus):                  0.000   Jarque-Bera (JB):         44197259.302\n",
       "Skew:                          14.463   Prob(JB):                         0.00\n",
       "Kurtosis:                     363.831   Cond. No.                         66.3\n",
       "==============================================================================\n",
       "\n",
       "Notes:\n",
       "[1] Standard Errors assume that the covariance matrix of the errors is correctly specified.\n",
       "\"\"\""
      ]
     },
     "execution_count": 7,
     "metadata": {},
     "output_type": "execute_result"
    }
   ],
   "source": [
    "# Multiple regression  \n",
    "lm = OLS(df['price'], df[['bathrooms', 'bedrooms', 'minimum_nights', 'intercept']])\n",
    "lm.fit().summary()"
   ]
  },
  {
   "cell_type": "markdown",
   "metadata": {
    "slideshow": {
     "slide_type": "slide"
    }
   },
   "source": [
    "Badrooms have the higest effect on rental peice, followed by the minimum nights. For the bathroom its p value suggests it has no effect on rental price, lets check for multicollinearity."
   ]
  },
  {
   "cell_type": "code",
   "execution_count": 8,
   "metadata": {
    "slideshow": {
     "slide_type": "skip"
    }
   },
   "outputs": [
    {
     "data": {
      "text/html": [
       "<div>\n",
       "<style scoped>\n",
       "    .dataframe tbody tr th:only-of-type {\n",
       "        vertical-align: middle;\n",
       "    }\n",
       "\n",
       "    .dataframe tbody tr th {\n",
       "        vertical-align: top;\n",
       "    }\n",
       "\n",
       "    .dataframe thead th {\n",
       "        text-align: right;\n",
       "    }\n",
       "</style>\n",
       "<table border=\"1\" class=\"dataframe\">\n",
       "  <thead>\n",
       "    <tr style=\"text-align: right;\">\n",
       "      <th></th>\n",
       "      <th>price</th>\n",
       "      <th>bathrooms</th>\n",
       "      <th>bedrooms</th>\n",
       "      <th>minimum_nights</th>\n",
       "    </tr>\n",
       "  </thead>\n",
       "  <tbody>\n",
       "    <tr>\n",
       "      <th>price</th>\n",
       "      <td>1.000000</td>\n",
       "      <td>0.122035</td>\n",
       "      <td>0.376182</td>\n",
       "      <td>0.033685</td>\n",
       "    </tr>\n",
       "    <tr>\n",
       "      <th>bathrooms</th>\n",
       "      <td>0.122035</td>\n",
       "      <td>1.000000</td>\n",
       "      <td>0.325289</td>\n",
       "      <td>0.020778</td>\n",
       "    </tr>\n",
       "    <tr>\n",
       "      <th>bedrooms</th>\n",
       "      <td>0.376182</td>\n",
       "      <td>0.325289</td>\n",
       "      <td>1.000000</td>\n",
       "      <td>-0.016807</td>\n",
       "    </tr>\n",
       "    <tr>\n",
       "      <th>minimum_nights</th>\n",
       "      <td>0.033685</td>\n",
       "      <td>0.020778</td>\n",
       "      <td>-0.016807</td>\n",
       "      <td>1.000000</td>\n",
       "    </tr>\n",
       "  </tbody>\n",
       "</table>\n",
       "</div>"
      ],
      "text/plain": [
       "                   price  bathrooms  bedrooms  minimum_nights\n",
       "price           1.000000   0.122035  0.376182        0.033685\n",
       "bathrooms       0.122035   1.000000  0.325289        0.020778\n",
       "bedrooms        0.376182   0.325289  1.000000       -0.016807\n",
       "minimum_nights  0.033685   0.020778 -0.016807        1.000000"
      ]
     },
     "execution_count": 8,
     "metadata": {},
     "output_type": "execute_result"
    }
   ],
   "source": [
    "# Cehck for multicollinearity  \n",
    "df[['price','bathrooms','bedrooms','minimum_nights']].corr()"
   ]
  },
  {
   "cell_type": "markdown",
   "metadata": {
    "slideshow": {
     "slide_type": "slide"
    }
   },
   "source": [
    "It seems there is a moderat linear relation betweem bathrooms and bed rooms, lets check the variance infation factors."
   ]
  },
  {
   "cell_type": "code",
   "execution_count": 9,
   "metadata": {
    "scrolled": true,
    "slideshow": {
     "slide_type": "skip"
    }
   },
   "outputs": [
    {
     "data": {
      "text/html": [
       "<div>\n",
       "<style scoped>\n",
       "    .dataframe tbody tr th:only-of-type {\n",
       "        vertical-align: middle;\n",
       "    }\n",
       "\n",
       "    .dataframe tbody tr th {\n",
       "        vertical-align: top;\n",
       "    }\n",
       "\n",
       "    .dataframe thead th {\n",
       "        text-align: right;\n",
       "    }\n",
       "</style>\n",
       "<table border=\"1\" class=\"dataframe\">\n",
       "  <thead>\n",
       "    <tr style=\"text-align: right;\">\n",
       "      <th></th>\n",
       "      <th>VIF</th>\n",
       "      <th>features</th>\n",
       "    </tr>\n",
       "  </thead>\n",
       "  <tbody>\n",
       "    <tr>\n",
       "      <th>0</th>\n",
       "      <td>4.828112</td>\n",
       "      <td>Intercept</td>\n",
       "    </tr>\n",
       "    <tr>\n",
       "      <th>1</th>\n",
       "      <td>1.119196</td>\n",
       "      <td>bathrooms</td>\n",
       "    </tr>\n",
       "    <tr>\n",
       "      <th>2</th>\n",
       "      <td>1.119029</td>\n",
       "      <td>bedrooms</td>\n",
       "    </tr>\n",
       "    <tr>\n",
       "      <th>3</th>\n",
       "      <td>1.001054</td>\n",
       "      <td>minimum_nights</td>\n",
       "    </tr>\n",
       "  </tbody>\n",
       "</table>\n",
       "</div>"
      ],
      "text/plain": [
       "        VIF        features\n",
       "0  4.828112       Intercept\n",
       "1  1.119196       bathrooms\n",
       "2  1.119029        bedrooms\n",
       "3  1.001054  minimum_nights"
      ]
     },
     "execution_count": 9,
     "metadata": {},
     "output_type": "execute_result"
    }
   ],
   "source": [
    "# Cehck for multicollinearity #VIFS \n",
    "from patsy import dmatrices \n",
    "from statsmodels.stats.outliers_influence import variance_inflation_factor \n",
    "y, x = dmatrices('price ~ bathrooms + bedrooms + minimum_nights', df, return_type = 'dataframe')\n",
    "vif = pd.DataFrame()\n",
    "vif['VIF'] = [variance_inflation_factor(x.values,i) for i in range(x.shape[1])]\n",
    "vif['features'] = x.columns\n",
    "vif "
   ]
  },
  {
   "cell_type": "markdown",
   "metadata": {
    "slideshow": {
     "slide_type": "slide"
    }
   },
   "source": [
    "VIFS are lower than ten, There is no multicollinearity, however if we add an interaction what will happen?"
   ]
  },
  {
   "cell_type": "code",
   "execution_count": 10,
   "metadata": {
    "scrolled": false,
    "slideshow": {
     "slide_type": "skip"
    }
   },
   "outputs": [
    {
     "data": {
      "text/html": [
       "<table class=\"simpletable\">\n",
       "<caption>OLS Regression Results</caption>\n",
       "<tr>\n",
       "  <th>Dep. Variable:</th>          <td>price</td>      <th>  R-squared:         </th> <td>   0.144</td> \n",
       "</tr>\n",
       "<tr>\n",
       "  <th>Model:</th>                   <td>OLS</td>       <th>  Adj. R-squared:    </th> <td>   0.143</td> \n",
       "</tr>\n",
       "<tr>\n",
       "  <th>Method:</th>             <td>Least Squares</td>  <th>  F-statistic:       </th> <td>   339.4</td> \n",
       "</tr>\n",
       "<tr>\n",
       "  <th>Date:</th>             <td>Fri, 08 Oct 2021</td> <th>  Prob (F-statistic):</th> <td>1.61e-270</td>\n",
       "</tr>\n",
       "<tr>\n",
       "  <th>Time:</th>                 <td>16:11:20</td>     <th>  Log-Likelihood:    </th> <td> -94198.</td> \n",
       "</tr>\n",
       "<tr>\n",
       "  <th>No. Observations:</th>      <td>  8095</td>      <th>  AIC:               </th> <td>1.884e+05</td>\n",
       "</tr>\n",
       "<tr>\n",
       "  <th>Df Residuals:</th>          <td>  8090</td>      <th>  BIC:               </th> <td>1.884e+05</td>\n",
       "</tr>\n",
       "<tr>\n",
       "  <th>Df Model:</th>              <td>     4</td>      <th>                     </th>     <td> </td>    \n",
       "</tr>\n",
       "<tr>\n",
       "  <th>Covariance Type:</th>      <td>nonrobust</td>    <th>                     </th>     <td> </td>    \n",
       "</tr>\n",
       "</table>\n",
       "<table class=\"simpletable\">\n",
       "<tr>\n",
       "         <td></td>           <th>coef</th>     <th>std err</th>      <th>t</th>      <th>P>|t|</th>  <th>[0.025</th>    <th>0.975]</th>  \n",
       "</tr>\n",
       "<tr>\n",
       "  <th>bathrooms</th>      <td> -614.3271</td> <td>  419.728</td> <td>   -1.464</td> <td> 0.143</td> <td>-1437.102</td> <td>  208.448</td>\n",
       "</tr>\n",
       "<tr>\n",
       "  <th>bedrooms</th>       <td> 1.125e+04</td> <td>  488.173</td> <td>   23.039</td> <td> 0.000</td> <td> 1.03e+04</td> <td> 1.22e+04</td>\n",
       "</tr>\n",
       "<tr>\n",
       "  <th>bath_bed_rooms</th> <td>  380.7712</td> <td>  160.202</td> <td>    2.377</td> <td> 0.017</td> <td>   66.734</td> <td>  694.808</td>\n",
       "</tr>\n",
       "<tr>\n",
       "  <th>minimum_nights</th> <td>   51.3136</td> <td>   13.119</td> <td>    3.911</td> <td> 0.000</td> <td>   25.598</td> <td>   77.030</td>\n",
       "</tr>\n",
       "<tr>\n",
       "  <th>intercept</th>      <td> 5803.4406</td> <td>  803.868</td> <td>    7.219</td> <td> 0.000</td> <td> 4227.652</td> <td> 7379.229</td>\n",
       "</tr>\n",
       "</table>\n",
       "<table class=\"simpletable\">\n",
       "<tr>\n",
       "  <th>Omnibus:</th>       <td>15377.895</td> <th>  Durbin-Watson:     </th>   <td>   1.895</td>  \n",
       "</tr>\n",
       "<tr>\n",
       "  <th>Prob(Omnibus):</th>  <td> 0.000</td>   <th>  Jarque-Bera (JB):  </th> <td>44374515.627</td>\n",
       "</tr>\n",
       "<tr>\n",
       "  <th>Skew:</th>           <td>14.428</td>   <th>  Prob(JB):          </th>   <td>    0.00</td>  \n",
       "</tr>\n",
       "<tr>\n",
       "  <th>Kurtosis:</th>       <td>364.564</td>  <th>  Cond. No.          </th>   <td>    86.2</td>  \n",
       "</tr>\n",
       "</table><br/><br/>Notes:<br/>[1] Standard Errors assume that the covariance matrix of the errors is correctly specified."
      ],
      "text/plain": [
       "<class 'statsmodels.iolib.summary.Summary'>\n",
       "\"\"\"\n",
       "                            OLS Regression Results                            \n",
       "==============================================================================\n",
       "Dep. Variable:                  price   R-squared:                       0.144\n",
       "Model:                            OLS   Adj. R-squared:                  0.143\n",
       "Method:                 Least Squares   F-statistic:                     339.4\n",
       "Date:                Fri, 08 Oct 2021   Prob (F-statistic):          1.61e-270\n",
       "Time:                        16:11:20   Log-Likelihood:                -94198.\n",
       "No. Observations:                8095   AIC:                         1.884e+05\n",
       "Df Residuals:                    8090   BIC:                         1.884e+05\n",
       "Df Model:                           4                                         \n",
       "Covariance Type:            nonrobust                                         \n",
       "==================================================================================\n",
       "                     coef    std err          t      P>|t|      [0.025      0.975]\n",
       "----------------------------------------------------------------------------------\n",
       "bathrooms       -614.3271    419.728     -1.464      0.143   -1437.102     208.448\n",
       "bedrooms        1.125e+04    488.173     23.039      0.000    1.03e+04    1.22e+04\n",
       "bath_bed_rooms   380.7712    160.202      2.377      0.017      66.734     694.808\n",
       "minimum_nights    51.3136     13.119      3.911      0.000      25.598      77.030\n",
       "intercept       5803.4406    803.868      7.219      0.000    4227.652    7379.229\n",
       "==============================================================================\n",
       "Omnibus:                    15377.895   Durbin-Watson:                   1.895\n",
       "Prob(Omnibus):                  0.000   Jarque-Bera (JB):         44374515.627\n",
       "Skew:                          14.428   Prob(JB):                         0.00\n",
       "Kurtosis:                     364.564   Cond. No.                         86.2\n",
       "==============================================================================\n",
       "\n",
       "Notes:\n",
       "[1] Standard Errors assume that the covariance matrix of the errors is correctly specified.\n",
       "\"\"\""
      ]
     },
     "execution_count": 10,
     "metadata": {},
     "output_type": "execute_result"
    }
   ],
   "source": [
    "# Add an interaction term  \n",
    "df['bath_bed_rooms'] = df['bathrooms'] * df['bedrooms']\n",
    "lm = OLS(df['price'], df[['bathrooms', 'bedrooms','bath_bed_rooms','minimum_nights', 'intercept']])\n",
    "lm.fit().summary()"
   ]
  },
  {
   "cell_type": "markdown",
   "metadata": {
    "slideshow": {
     "slide_type": "slide"
    },
    "tags": []
   },
   "source": [
    "From the above statstical approach we can say that there is a linear relation between price, and numerical features except for the bathrooms that is replaced by the interaction term of bathrooms multiplied by bedrooms, actualy we don't need bathrooms in our model, also there is no multimulticollinearity."
   ]
  }
 ],
 "metadata": {
  "celltoolbar": "Slideshow",
  "colab": {
   "name": "Welcome to DataCamp Workspaces.ipynb",
   "provenance": []
  },
  "kernelspec": {
   "display_name": "Python 3",
   "language": "python",
   "name": "python3"
  },
  "language_info": {
   "codemirror_mode": {
    "name": "ipython",
    "version": 3
   },
   "file_extension": ".py",
   "mimetype": "text/x-python",
   "name": "python",
   "nbconvert_exporter": "python",
   "pygments_lexer": "ipython3",
   "version": "3.8.5"
  },
  "toc-autonumbering": false,
  "toc-showcode": false
 },
 "nbformat": 4,
 "nbformat_minor": 4
}
